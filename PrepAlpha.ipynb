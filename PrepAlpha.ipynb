{
 "cells": [
  {
   "cell_type": "code",
   "execution_count": 3,
   "id": "f09d42fb-4a5b-4285-abef-619d5b2271c9",
   "metadata": {},
   "outputs": [],
   "source": [
    "import csv"
   ]
  },
  {
   "cell_type": "code",
   "execution_count": 6,
   "id": "05742f6d-cc8d-435d-9107-15c54cf17cfc",
   "metadata": {},
   "outputs": [],
   "source": [
    "import csv\n",
    "\n",
    "def txt_to_csv(input_file, output_file):\n",
    "    with open(input_file, 'r') as txt_file:\n",
    "        data = [line.strip() for line in txt_file if line.strip() and not line.strip().startswith(tuple('ABCDEFGHIJKLMNOPQRSTUVWXYZ')) and len(line.strip()) >= 4]\n",
    "\n",
    "    data.sort()  # Sort the data alphabetically\n",
    "\n",
    "    header = [\"Words\"]\n",
    "    with open(output_file, 'w', newline='') as csv_file:\n",
    "        writer = csv.writer(csv_file)\n",
    "        for value in data:\n",
    "            writer.writerow([value])\n",
    "\n",
    "if __name__ == \"__main__\":\n",
    "    input_txt_file = \"words_alpha.txt\"  # Replace with the path to your input TXT file\n",
    "    output_csv_file = \"output_alpha.csv\"  # Replace with the desired path for the output CSV file\n",
    "\n",
    "    txt_to_csv(input_txt_file, output_csv_file)\n"
   ]
  },
  {
   "cell_type": "code",
   "execution_count": null,
   "id": "deb33d18-7d35-4677-9970-231d64ad4f24",
   "metadata": {},
   "outputs": [],
   "source": []
  }
 ],
 "metadata": {
  "kernelspec": {
   "display_name": "Python 3 (ipykernel)",
   "language": "python",
   "name": "python3"
  },
  "language_info": {
   "codemirror_mode": {
    "name": "ipython",
    "version": 3
   },
   "file_extension": ".py",
   "mimetype": "text/x-python",
   "name": "python",
   "nbconvert_exporter": "python",
   "pygments_lexer": "ipython3",
   "version": "3.9.7"
  }
 },
 "nbformat": 4,
 "nbformat_minor": 5
}
