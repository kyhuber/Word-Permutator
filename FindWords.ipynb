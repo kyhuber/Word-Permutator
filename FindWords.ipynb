{
 "cells": [
  {
   "cell_type": "code",
   "execution_count": 1,
   "id": "603e50f8-d2ca-4358-80c2-770b511a43a5",
   "metadata": {},
   "outputs": [
    {
     "name": "stdout",
     "output_type": "stream",
     "text": [
      "Number of valid word combinations: 3\n",
      "Valid word combinations:\n",
      "hikers\n",
      "shrike\n",
      "shriek\n"
     ]
    }
   ],
   "source": [
    "import csv\n",
    "from itertools import permutations\n",
    "\n",
    "def read_valid_words(file_name):\n",
    "    with open(file_name, \"r\") as csv_file:\n",
    "        csv_reader = csv.reader(csv_file)\n",
    "        valid_words = [row[0].lower() for row in csv_reader]\n",
    "    return valid_words\n",
    "\n",
    "def count_valid_word_combinations(letters_list, valid_words):\n",
    "    letter_combinations = [''.join(perm) for perm in permutations(letters_list)]\n",
    "    valid_word_combinations = [word for word in letter_combinations if word in valid_words]\n",
    "    return valid_word_combinations\n",
    "\n",
    "if __name__ == \"__main__\":\n",
    "    given_letters = ['h', 'i', 'k', 'e', 'r', 'p']\n",
    "    valid_words_list = read_valid_words(\"output_file_alpha.csv\")\n",
    "\n",
    "    valid_combinations = count_valid_word_combinations(given_letters, valid_words_list)\n",
    "    count = len(valid_combinations)\n",
    "\n",
    "    print(\"Number of valid word combinations:\", count)\n",
    "\n",
    "    if valid_combinations:\n",
    "        print(\"Valid word combinations:\")\n",
    "        for word in valid_combinations:\n",
    "            print(word)\n",
    "    else:\n",
    "        print(\"No valid word combinations found.\")\n"
   ]
  },
  {
   "cell_type": "code",
   "execution_count": 17,
   "id": "aed3187c-2353-4377-9984-111df0f1c8cc",
   "metadata": {},
   "outputs": [
    {
     "name": "stdout",
     "output_type": "stream",
     "text": [
      "Number of valid word combinations: 25\n",
      "Valid word combinations:\n",
      "hike\n",
      "pike\n",
      "hiker\n",
      "kipe\n",
      "hipe\n",
      "kier\n",
      "pier\n",
      "perh\n",
      "krepi\n",
      "kephir\n",
      "kepi\n",
      "hire\n",
      "irpe\n",
      "ripe\n",
      "keir\n",
      "khir\n",
      "prie\n",
      "erik\n",
      "heir\n",
      "perk\n",
      "piker\n",
      "reki\n",
      "hiper\n",
      "peri\n",
      "herp\n"
     ]
    }
   ],
   "source": [
    "import csv\n",
    "\n",
    "def read_valid_words(file_name):\n",
    "    with open(file_name, \"r\") as csv_file:\n",
    "        csv_reader = csv.reader(csv_file)\n",
    "        valid_words = {row[0].lower() for row in csv_reader}\n",
    "    return valid_words\n",
    "\n",
    "def find_valid_word_combinations(letters_list, valid_words):\n",
    "    def generate_combinations(remaining_letters, current_word):\n",
    "        if current_word and current_word in valid_words:\n",
    "            valid_combinations.add(current_word)\n",
    "        if not remaining_letters:\n",
    "            return\n",
    "\n",
    "        for i in range(len(remaining_letters)):\n",
    "            new_word = current_word + remaining_letters[i]\n",
    "            generate_combinations(remaining_letters[:i] + remaining_letters[i+1:], new_word)\n",
    "\n",
    "    valid_combinations = set()\n",
    "    generate_combinations(letters_list, \"\")\n",
    "\n",
    "    return valid_combinations\n",
    "\n",
    "if __name__ == \"__main__\":\n",
    "    given_letters = ['h', 'i', 'k', 'e', 'r', 'p']\n",
    "    valid_words_set = read_valid_words(\"output_file_alpha.csv\")\n",
    "\n",
    "    valid_combinations = find_valid_word_combinations(given_letters, valid_words_set)\n",
    "    count = len(valid_combinations)\n",
    "\n",
    "    print(\"Number of valid word combinations:\", count)\n",
    "\n",
    "    if valid_combinations:\n",
    "        print(\"Valid word combinations:\")\n",
    "        for word in valid_combinations:\n",
    "            print(word)\n",
    "    else:\n",
    "        print(\"No valid word combinations found.\")\n"
   ]
  },
  {
   "cell_type": "code",
   "execution_count": null,
   "id": "b47cd654-5bbd-48d8-a781-a4ee35774ebc",
   "metadata": {},
   "outputs": [],
   "source": []
  }
 ],
 "metadata": {
  "kernelspec": {
   "display_name": "Python 3 (ipykernel)",
   "language": "python",
   "name": "python3"
  },
  "language_info": {
   "codemirror_mode": {
    "name": "ipython",
    "version": 3
   },
   "file_extension": ".py",
   "mimetype": "text/x-python",
   "name": "python",
   "nbconvert_exporter": "python",
   "pygments_lexer": "ipython3",
   "version": "3.9.7"
  }
 },
 "nbformat": 4,
 "nbformat_minor": 5
}
