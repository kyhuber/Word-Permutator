{
 "cells": [
  {
   "cell_type": "code",
   "execution_count": 3,
   "id": "4a27089f-b929-4675-9f71-4737c5165782",
   "metadata": {},
   "outputs": [
    {
     "name": "stdin",
     "output_type": "stream",
     "text": [
      "Enter the center letter:  m\n",
      "Enter 6 additional letters separated by commas:  v,a,r,i,n,t\n"
     ]
    },
    {
     "name": "stdout",
     "output_type": "stream",
     "text": [
      "\n",
      "Permutations found in the DataFrame:\n",
      "a: airman,amain,amanita,amari,amia,amman,anima,animam,animi,arma,arminian,avaram\n",
      "i: imam,intima\n",
      "m: maana,maim,main,maintain,mama,mamma,manama,manannan,mania,mann,manna,manta,mantra,mara,maranta,marattia,mari,maria,marian,marina,marinara,marmara,mart,martian,martin,martini,matai,matin,miami,mimir,mini,minim,minima,minivan,mint,miri,mitra,mitt\n",
      "n: namtar\n",
      "r: rama,ramman\n",
      "t: tamarin,tamtam,tiamat,trainman,tram,trim,trimaran\n",
      "v: varmint,viminaria,vitam,vitamin\n"
     ]
    }
   ],
   "source": [
    "import csv\n",
    "from itertools import product, permutations\n",
    "\n",
    "def filter_words_by_letter(input_letter, input_file):\n",
    "    with open(input_file, 'r') as csv_file:\n",
    "        csv_reader = csv.reader(csv_file)\n",
    "        words_list = {row[0].lower() for row in csv_reader}\n",
    "\n",
    "    filtered_words = {word for word in words_list if input_letter.lower() in word}\n",
    "\n",
    "    return filtered_words\n",
    "\n",
    "if __name__ == \"__main__\":\n",
    "    center_letter = input(\"Enter the center letter: \").strip().lower()\n",
    "\n",
    "    additional_letters_input = input(\"Enter 6 additional letters separated by commas: \")\n",
    "    additional_letters = [letter.strip().lower() for letter in additional_letters_input.split(\",\")]\n",
    "\n",
    "    all_letters = [center_letter] + additional_letters\n",
    "\n",
    "    input_csv_file = \"Michigan_Words.csv\"  # Replace with the path to your input CSV file\n",
    "\n",
    "    filtered_words = filter_words_by_letter(center_letter, input_csv_file)\n",
    "\n",
    "    # Limit the maximum length of permutations\n",
    "    max_length_permutation = 10\n",
    "\n",
    "    # Generate permutations of letters with repetitions and find the intersection with filtered words\n",
    "    permutations_set = {permutation_word for length in range(4, max_length_permutation + 1)\n",
    "                        for p in product(all_letters, repeat=length)\n",
    "                        if (permutation_word := ''.join(p).lower()) in filtered_words}\n",
    "\n",
    "    if permutations_set:\n",
    "        # Sort the permutations alphabetically\n",
    "        sorted_permutations = sorted(permutations_set)\n",
    "\n",
    "        # Create a dictionary to group words by their starting letter\n",
    "        grouped_lists = {}\n",
    "        for word in sorted_permutations:\n",
    "            starting_letter = word[0]\n",
    "            if starting_letter not in grouped_lists:\n",
    "                grouped_lists[starting_letter] = []\n",
    "            grouped_lists[starting_letter].append(word)\n",
    "\n",
    "        # Create a formatted string with line breaks between lists\n",
    "        formatted_lists = \"\\n\".join([f\"{letter}: {','.join(words)}\" for letter, words in grouped_lists.items()])\n",
    "\n",
    "        print(\"\\nPermutations found in the DataFrame:\")\n",
    "        print(formatted_lists)\n",
    "    else:\n",
    "        print(\"\\nNo permutations found in the DataFrame.\")\n"
   ]
  },
  {
   "cell_type": "code",
   "execution_count": null,
   "id": "8f35c7be-9f34-427b-92c4-245eae64d1ce",
   "metadata": {},
   "outputs": [],
   "source": []
  }
 ],
 "metadata": {
  "kernelspec": {
   "display_name": "Python 3 (ipykernel)",
   "language": "python",
   "name": "python3"
  },
  "language_info": {
   "codemirror_mode": {
    "name": "ipython",
    "version": 3
   },
   "file_extension": ".py",
   "mimetype": "text/x-python",
   "name": "python",
   "nbconvert_exporter": "python",
   "pygments_lexer": "ipython3",
   "version": "3.9.7"
  }
 },
 "nbformat": 4,
 "nbformat_minor": 5
}
