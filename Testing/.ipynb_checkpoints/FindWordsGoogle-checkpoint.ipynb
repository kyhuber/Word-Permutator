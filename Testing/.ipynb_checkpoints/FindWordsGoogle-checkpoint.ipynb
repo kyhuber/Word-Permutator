{
 "cells": [
  {
   "cell_type": "code",
   "execution_count": 2,
   "id": "4a27089f-b929-4675-9f71-4737c5165782",
   "metadata": {},
   "outputs": [
    {
     "name": "stdin",
     "output_type": "stream",
     "text": [
      "Enter the center letter:  m\n",
      "Enter 6 additional letters separated by commas:  v,a,r,i,n,t\n"
     ]
    },
    {
     "ename": "KeyboardInterrupt",
     "evalue": "",
     "output_type": "error",
     "traceback": [
      "\u001b[1;31m---------------------------------------------------------------------------\u001b[0m",
      "\u001b[1;31mKeyboardInterrupt\u001b[0m                         Traceback (most recent call last)",
      "Input \u001b[1;32mIn [2]\u001b[0m, in \u001b[0;36m<cell line: 13>\u001b[1;34m()\u001b[0m\n\u001b[0;32m     26\u001b[0m max_length_permutation \u001b[38;5;241m=\u001b[39m \u001b[38;5;241m10\u001b[39m\n\u001b[0;32m     28\u001b[0m \u001b[38;5;66;03m# Generate permutations of letters with repetitions and find the intersection with filtered words\u001b[39;00m\n\u001b[1;32m---> 29\u001b[0m permutations_set \u001b[38;5;241m=\u001b[39m {permutation_word \u001b[38;5;28;01mfor\u001b[39;00m length \u001b[38;5;129;01min\u001b[39;00m \u001b[38;5;28mrange\u001b[39m(\u001b[38;5;241m4\u001b[39m, max_length_permutation \u001b[38;5;241m+\u001b[39m \u001b[38;5;241m1\u001b[39m)\n\u001b[0;32m     30\u001b[0m                     \u001b[38;5;28;01mfor\u001b[39;00m p \u001b[38;5;129;01min\u001b[39;00m product(all_letters, repeat\u001b[38;5;241m=\u001b[39mlength)\n\u001b[0;32m     31\u001b[0m                     \u001b[38;5;28;01mif\u001b[39;00m (permutation_word \u001b[38;5;241m:=\u001b[39m \u001b[38;5;124m'\u001b[39m\u001b[38;5;124m'\u001b[39m\u001b[38;5;241m.\u001b[39mjoin(p)\u001b[38;5;241m.\u001b[39mlower()) \u001b[38;5;129;01min\u001b[39;00m filtered_words}\n\u001b[0;32m     33\u001b[0m \u001b[38;5;28;01mif\u001b[39;00m permutations_set:\n\u001b[0;32m     34\u001b[0m     \u001b[38;5;66;03m# Sort the permutations alphabetically\u001b[39;00m\n\u001b[0;32m     35\u001b[0m     sorted_permutations \u001b[38;5;241m=\u001b[39m \u001b[38;5;28msorted\u001b[39m(permutations_set)\n",
      "Input \u001b[1;32mIn [2]\u001b[0m, in \u001b[0;36m<setcomp>\u001b[1;34m(.0)\u001b[0m\n\u001b[0;32m     26\u001b[0m max_length_permutation \u001b[38;5;241m=\u001b[39m \u001b[38;5;241m10\u001b[39m\n\u001b[0;32m     28\u001b[0m \u001b[38;5;66;03m# Generate permutations of letters with repetitions and find the intersection with filtered words\u001b[39;00m\n\u001b[0;32m     29\u001b[0m permutations_set \u001b[38;5;241m=\u001b[39m {permutation_word \u001b[38;5;28;01mfor\u001b[39;00m length \u001b[38;5;129;01min\u001b[39;00m \u001b[38;5;28mrange\u001b[39m(\u001b[38;5;241m4\u001b[39m, max_length_permutation \u001b[38;5;241m+\u001b[39m \u001b[38;5;241m1\u001b[39m)\n\u001b[0;32m     30\u001b[0m                     \u001b[38;5;28;01mfor\u001b[39;00m p \u001b[38;5;129;01min\u001b[39;00m product(all_letters, repeat\u001b[38;5;241m=\u001b[39mlength)\n\u001b[1;32m---> 31\u001b[0m                     \u001b[38;5;28;01mif\u001b[39;00m (permutation_word \u001b[38;5;241m:=\u001b[39m \u001b[38;5;124;43m'\u001b[39;49m\u001b[38;5;124;43m'\u001b[39;49m\u001b[38;5;241;43m.\u001b[39;49m\u001b[43mjoin\u001b[49m\u001b[43m(\u001b[49m\u001b[43mp\u001b[49m\u001b[43m)\u001b[49m\u001b[38;5;241m.\u001b[39mlower()) \u001b[38;5;129;01min\u001b[39;00m filtered_words}\n\u001b[0;32m     33\u001b[0m \u001b[38;5;28;01mif\u001b[39;00m permutations_set:\n\u001b[0;32m     34\u001b[0m     \u001b[38;5;66;03m# Sort the permutations alphabetically\u001b[39;00m\n\u001b[0;32m     35\u001b[0m     sorted_permutations \u001b[38;5;241m=\u001b[39m \u001b[38;5;28msorted\u001b[39m(permutations_set)\n",
      "\u001b[1;31mKeyboardInterrupt\u001b[0m: "
     ]
    }
   ],
   "source": [
    "import csv\n",
    "import pandas as pd\n",
    "from itertools import product, permutations\n",
    "\n",
    "def filter_words_by_letter(input_letter, input_file):\n",
    "    with open(input_file, 'r') as csv_file:\n",
    "        csv_reader = csv.reader(csv_file)\n",
    "        words_list = {row[0].lower() for row in csv_reader}\n",
    "\n",
    "    filtered_words = {word for word in words_list if input_letter.lower() in word}\n",
    "\n",
    "    return filtered_words\n",
    "\n",
    "if __name__ == \"__main__\":\n",
    "    center_letter = input(\"Enter the center letter: \").strip().lower()\n",
    "\n",
    "    additional_letters_input = input(\"Enter 6 additional letters separated by commas: \")\n",
    "    additional_letters = [letter.strip().lower() for letter in additional_letters_input.split(\",\")]\n",
    "\n",
    "    all_letters = [center_letter] + additional_letters\n",
    "\n",
    "    input_csv_file = \"output_alpha.csv\"  # Replace with the path to your input CSV file\n",
    "\n",
    "    filtered_words = filter_words_by_letter(center_letter, input_csv_file)\n",
    "\n",
    "    # Limit the maximum length of permutations\n",
    "    max_length_permutation = 8\n",
    "\n",
    "    # Generate permutations of letters with repetitions and find the intersection with filtered words\n",
    "    permutations_set = {permutation_word for length in range(4, max_length_permutation + 1)\n",
    "                        for p in product(all_letters, repeat=length)\n",
    "                        if (permutation_word := ''.join(p).lower()) in filtered_words}\n",
    "\n",
    "    if permutations_set:\n",
    "        # Sort the permutations alphabetically\n",
    "        sorted_permutations = sorted(permutations_set)\n",
    "\n",
    "        # Create a DataFrame from the sorted permutations\n",
    "        df_permutations = pd.DataFrame(sorted_permutations, columns=['Permutations'])\n",
    "\n",
    "        print(\"\\nPermutations found in the DataFrame:\")\n",
    "        print(df_permutations)\n",
    "    else:\n",
    "        print(\"\\nNo permutations found in the DataFrame.\")"
   ]
  },
  {
   "cell_type": "code",
   "execution_count": null,
   "id": "8f35c7be-9f34-427b-92c4-245eae64d1ce",
   "metadata": {},
   "outputs": [],
   "source": []
  }
 ],
 "metadata": {
  "kernelspec": {
   "display_name": "Python 3 (ipykernel)",
   "language": "python",
   "name": "python3"
  },
  "language_info": {
   "codemirror_mode": {
    "name": "ipython",
    "version": 3
   },
   "file_extension": ".py",
   "mimetype": "text/x-python",
   "name": "python",
   "nbconvert_exporter": "python",
   "pygments_lexer": "ipython3",
   "version": "3.9.7"
  }
 },
 "nbformat": 4,
 "nbformat_minor": 5
}
