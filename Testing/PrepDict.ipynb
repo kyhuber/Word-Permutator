{
 "cells": [
  {
   "cell_type": "code",
   "execution_count": 56,
   "id": "1c88b6cc-0237-4200-a4ca-e771ffeaaec3",
   "metadata": {},
   "outputs": [],
   "source": [
    "import csv"
   ]
  },
  {
   "cell_type": "code",
   "execution_count": 57,
   "id": "31245ba5-010e-4c33-a236-a120d63613e0",
   "metadata": {},
   "outputs": [],
   "source": [
    "def txt_to_csv(input_file, output_file):\n",
    "    with open(input_file, 'r') as txt_file:\n",
    "        data = [line.strip() for line in txt_file if line.strip() and not line.strip().startswith(tuple('ABCDEFGHIJKLMNOPQRSTUVWXYZ'))]\n",
    "\n",
    "        \n",
    "    data.sort()  # Sort the data alphabetically\n",
    "\n",
    "    with open(output_file, 'w', newline='') as csv_file:\n",
    "        writer = csv.writer(csv_file)\n",
    "        for value in data:\n",
    "            writer.writerow([value])\n",
    "\n",
    "if __name__ == \"__main__\":\n",
    "    input_txt_file = \"words.txt\"  # Replace with the path to your input TXT file\n",
    "    output_csv_file = \"output_file.csv\"  # Replace with the desired path for the output CSV file\n",
    "\n",
    "    txt_to_csv(input_txt_file, output_csv_file)"
   ]
  },
  {
   "cell_type": "code",
   "execution_count": 58,
   "id": "01a5977c-b9e2-4318-81c8-8cd7061ada7e",
   "metadata": {},
   "outputs": [],
   "source": [
    "import csv\n",
    "\n",
    "def is_row_blank(row):\n",
    "    return all(not cell.strip() for cell in row)\n",
    "\n",
    "def filter_and_sort_csv(input_file, output_file, min_length=4):\n",
    "    filtered_rows = []\n",
    "\n",
    "    with open(input_file, 'r', newline='') as csv_file:\n",
    "        reader = csv.reader(filter(lambda row: row and not is_row_blank(row), csv_file))\n",
    "        for row in reader:\n",
    "            filtered_row = [cell for cell in row if cell.strip() and len(cell.strip()) > min_length]\n",
    "            if filtered_row:  # Skip rows with empty cells\n",
    "                filtered_rows.append(filtered_row)\n",
    "\n",
    "    sorted_rows = sorted(filtered_rows, key=lambda x: ' '.join(x).lower())\n",
    "\n",
    "    with open(output_file, 'w', newline='') as csv_file:\n",
    "        writer = csv.writer(csv_file)\n",
    "        writer.writerows(sorted_rows)\n",
    "\n",
    "if __name__ == \"__main__\":\n",
    "    input_csv_file = \"output_file.csv\"  # Replace with the path to your input CSV file\n",
    "    output_csv_file = \"output_file_noblanks.csv\"  # Replace with the desired path for the output CSV file\n",
    "\n",
    "    filter_and_sort_csv(input_csv_file, output_csv_file)"
   ]
  },
  {
   "cell_type": "code",
   "execution_count": null,
   "id": "205bd81d-0599-4016-ac9d-3778e6f7339a",
   "metadata": {},
   "outputs": [],
   "source": []
  }
 ],
 "metadata": {
  "kernelspec": {
   "display_name": "Python 3 (ipykernel)",
   "language": "python",
   "name": "python3"
  },
  "language_info": {
   "codemirror_mode": {
    "name": "ipython",
    "version": 3
   },
   "file_extension": ".py",
   "mimetype": "text/x-python",
   "name": "python",
   "nbconvert_exporter": "python",
   "pygments_lexer": "ipython3",
   "version": "3.9.7"
  }
 },
 "nbformat": 4,
 "nbformat_minor": 5
}
