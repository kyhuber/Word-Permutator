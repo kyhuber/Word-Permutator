{
 "cells": [
  {
   "cell_type": "code",
   "execution_count": 1,
   "id": "4a27089f-b929-4675-9f71-4737c5165782",
   "metadata": {},
   "outputs": [
    {
     "name": "stdin",
     "output_type": "stream",
     "text": [
      "Enter the center letter:  p\n",
      "Enter 6 additional letters separated by commas:  w,h,o,i,n,g\n"
     ]
    },
    {
     "name": "stdout",
     "output_type": "stream",
     "text": [
      "\n",
      "Permutations found in the DataFrame:\n",
      "['hoping', 'opinion', 'ping']\n"
     ]
    }
   ],
   "source": [
    "import csv\n",
    "from itertools import product, permutations\n",
    "\n",
    "def filter_words_by_letter(input_letter, input_file):\n",
    "    with open(input_file, 'r') as csv_file:\n",
    "        csv_reader = csv.reader(csv_file)\n",
    "        words_list = {row[0].lower() for row in csv_reader}\n",
    "\n",
    "    filtered_words = {word for word in words_list if input_letter.lower() in word}\n",
    "\n",
    "    return filtered_words\n",
    "\n",
    "if __name__ == \"__main__\":\n",
    "    center_letter = input(\"Enter the center letter: \").strip().lower()\n",
    "\n",
    "    additional_letters_input = input(\"Enter 6 additional letters separated by commas: \")\n",
    "    additional_letters = [letter.strip().lower() for letter in additional_letters_input.split(\",\")]\n",
    "\n",
    "    all_letters = [center_letter] + additional_letters\n",
    "\n",
    "    input_csv_file = \"output_google.csv\"  # Replace with the path to your input CSV file\n",
    "\n",
    "    filtered_words = filter_words_by_letter(center_letter, input_csv_file)\n",
    "\n",
    "    # Limit the maximum length of permutations\n",
    "    max_length_permutation = 8\n",
    "\n",
    "    # Generate permutations of letters with repetitions and find the intersection with filtered words\n",
    "    permutations_set = {permutation_word for length in range(4, max_length_permutation + 1)\n",
    "                        for p in product(all_letters, repeat=length)\n",
    "                        if (permutation_word := ''.join(p).lower()) in filtered_words}\n",
    "\n",
    "    if permutations_set:\n",
    "        print(\"\\nPermutations found in the DataFrame:\")\n",
    "        print(list(permutations_set))\n",
    "    else:\n",
    "        print(\"\\nNo permutations found in the DataFrame.\")\n"
   ]
  },
  {
   "cell_type": "code",
   "execution_count": null,
   "id": "8f35c7be-9f34-427b-92c4-245eae64d1ce",
   "metadata": {},
   "outputs": [],
   "source": []
  }
 ],
 "metadata": {
  "kernelspec": {
   "display_name": "Python 3 (ipykernel)",
   "language": "python",
   "name": "python3"
  },
  "language_info": {
   "codemirror_mode": {
    "name": "ipython",
    "version": 3
   },
   "file_extension": ".py",
   "mimetype": "text/x-python",
   "name": "python",
   "nbconvert_exporter": "python",
   "pygments_lexer": "ipython3",
   "version": "3.9.7"
  }
 },
 "nbformat": 4,
 "nbformat_minor": 5
}
